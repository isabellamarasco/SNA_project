{
 "cells": [
  {
   "cell_type": "code",
   "execution_count": 1,
   "metadata": {},
   "outputs": [],
   "source": [
    "import networkx as nx\n",
    "#print(nx.__version__)\n",
    "import csv\n",
    "import community\n",
    "import pandas as pd\n",
    "from itertools import combinations\n",
    "import itertools\n",
    "from matplotlib import pyplot as plt\n",
    "#create an empty graph\n",
    "G = nx.Graph()"
   ]
  },
  {
   "cell_type": "code",
   "execution_count": 2,
   "metadata": {},
   "outputs": [],
   "source": [
    "# Open the CSV file and read the data for languages\n",
    "with open('dataset/languages.csv', 'r') as f:\n",
    "    reader = csv.reader(f)\n",
    "    for i, row in enumerate(reader):\n",
    "        if i == 0: # Skip the header columns\n",
    "            continue\n",
    "        # Add the language node to graph with green color\n",
    "        G.add_node(row[0], language=row[1], color='#30FBD0')"
   ]
  },
  {
   "cell_type": "code",
   "execution_count": 3,
   "metadata": {},
   "outputs": [],
   "source": [
    "#create nodes and edges bewtween repositories and languages\n",
    "with open('dataset/repos.csv', 'r') as f:\n",
    "    reader = csv.reader(f)\n",
    "    for i, row in enumerate(reader):\n",
    "        if i == 0: # Skip the header columns\n",
    "            continue\n",
    "        # transform the string of languages into an array of strings\n",
    "        row[2], row[5], row[6] = tuple(x.replace(' ', '').replace('[', '').replace(']', '').replace('\\'', '').replace('\"', '').split(',') for x in (row[2], row[5], row [6]))\n",
    "        G.add_node(row[0], name=row[1], topics=row[2], n_star=row[3], n_fork=row[4], languages=row[5], p_lang=row[6], color='#5D7EF5')\n",
    "        # Add the edges between the repository and the languages\n",
    "        #for lang in row[5]:\n",
    "         #   G.add_edge(row[0], lang)"
   ]
  },
  {
   "cell_type": "code",
   "execution_count": 4,
   "metadata": {},
   "outputs": [],
   "source": [
    "# create nodes and edges between users and repositories\n",
    "with open('dataset/users.csv', 'r') as f:\n",
    "    reader = csv.reader(f)\n",
    "    for i, row in enumerate(reader):\n",
    "        if i == 0: # Skip the header columns\n",
    "            continue\n",
    "        # transform the string of repositories into an array of strings\n",
    "        row[2:4] = [x.replace(' ', '').replace('[', '').replace(']', '').replace('\\'', '').replace('\"', '').split(',') for x in row[2:4]]\n",
    "        # Add the user node to graph with blue color\n",
    "        G.add_node(row[0], name=row[1], repos=row[2], commits= row[3], color='#F8A643')\n",
    "        # Add edges between the user and their repositories\n",
    "        #for repo in row[2]:\n",
    "         #   G.add_edge(row[0], repo)"
   ]
  },
  {
   "cell_type": "code",
   "execution_count": 5,
   "metadata": {},
   "outputs": [],
   "source": [
    "# Add edges between users and repositories based on the users' list of repositories\n",
    "for node in list(G.nodes):\n",
    "    # if it's a user node\n",
    "    if len(node) >= 1:\n",
    "        if node[0] == \"u\":\n",
    "            # for each repository in the user's list of repositories\n",
    "            for repo in G.nodes[node]['repos']:\n",
    "                # add an edge between the user and the repository\n",
    "                G.add_edge(node, repo)\n",
    "        if node[0] == \"r\":\n",
    "            # for each language in the repository's list of languages\n",
    "            for lang in G.nodes[node]['languages']:\n",
    "                # add an edge between the repository and the language\n",
    "                G.add_edge(node, lang)     \n",
    "\n",
    "#nx.info(G)"
   ]
  },
  {
   "cell_type": "code",
   "execution_count": 6,
   "metadata": {},
   "outputs": [],
   "source": [
    "\n",
    "# Creazione del sottografo contenente solo utenti che hanno contribuito alla stessa repository\n",
    "users_subgraph = nx.Graph()\n",
    "for repo_node in G.nodes():\n",
    "    if repo_node.startswith('r'):\n",
    "        # Trova la lista degli utenti che hanno contribuito a questo repository\n",
    "        repo_users = [node for node in G.neighbors(repo_node) if node.startswith('u')]\n",
    "        # Aggiunge gli utenti e gli archi al sottografo\n",
    "        for u, v in itertools.combinations(repo_users, 2):\n",
    "            users_subgraph.add_edge(u, v)\n",
    "\n",
    "#nx.info(users_subgraph)\n",
    "#nx.edges(users_subgraph)"
   ]
  },
  {
   "cell_type": "code",
   "execution_count": 7,
   "metadata": {},
   "outputs": [
    {
     "name": "stdout",
     "output_type": "stream",
     "text": [
      "Clustering coefficient:  0.6263838145981003\n"
     ]
    }
   ],
   "source": [
    "#calculate clustering coefficient of users subgraph\n",
    "clustering_coefficient = nx.average_clustering(users_subgraph)\n",
    "print(\"Clustering coefficient: \", clustering_coefficient)"
   ]
  },
  {
   "cell_type": "code",
   "execution_count": 8,
   "metadata": {},
   "outputs": [
    {
     "name": "stdout",
     "output_type": "stream",
     "text": [
      "Connected:  False\n"
     ]
    }
   ],
   "source": [
    "# view if the subgraph is connected\n",
    "conn = nx.is_connected(users_subgraph)\n",
    "print(\"Connected: \", conn)\n"
   ]
  },
  {
   "cell_type": "code",
   "execution_count": 9,
   "metadata": {},
   "outputs": [],
   "source": [
    "#convert the graph to a directed graph\n",
    "users_subgraph_d = users_subgraph.to_directed()\n",
    "def average_shortest_path_length(users_subgraph_d):\n",
    "    # compute the strongly connected components of the graph\n",
    "    components = nx.strongly_connected_components(users_subgraph_d)\n",
    "\n",
    "    # compute the average shortest path length for each component\n",
    "    avg_shortest_path_lengths = []\n",
    "    for component in components:\n",
    "        subgraph = users_subgraph_d.subgraph(component)\n",
    "        avg_shortest_path_length = nx.average_shortest_path_length(subgraph)\n",
    "        avg_shortest_path_lengths.append(avg_shortest_path_length)\n",
    "\n",
    "    # compute the overall average shortest path length\n",
    "    overall_avg_shortest_path_length = sum(avg_shortest_path_lengths) / len(avg_shortest_path_lengths)\n",
    "\n",
    "    # print the results\n",
    "    return overall_avg_shortest_path_length, avg_shortest_path_lengths\n",
    "\n",
    "def average_degree(users_subgraph_d):\n",
    "    degree_sequence = sorted([d for n, d in users_subgraph_d.degree()], reverse=True)\n",
    "    degree_count = nx.degree_histogram(users_subgraph_d)\n",
    "    \n",
    "    return degree_count\n",
    "\n",
    "def sigma(clustering_coefficient1, clustering_coefficient2, average_shortest_path_length1, average_shortest_path_length2):\n",
    "    return (clustering_coefficient1 / clustering_coefficient2) / (average_shortest_path_length1 / average_shortest_path_length2)"
   ]
  },
  {
   "cell_type": "code",
   "execution_count": 10,
   "metadata": {},
   "outputs": [
    {
     "name": "stdout",
     "output_type": "stream",
     "text": [
      "average shortest path length of users graph:  1.1174848059841047\n"
     ]
    }
   ],
   "source": [
    "overall_avg_shortest_path_length,avg_shortest_path_lengths = average_shortest_path_length(users_subgraph_d)\n",
    "print(\"average shortest path length of users graph: \", overall_avg_shortest_path_length)\n"
   ]
  },
  {
   "cell_type": "code",
   "execution_count": 11,
   "metadata": {},
   "outputs": [
    {
     "name": "stdout",
     "output_type": "stream",
     "text": [
      "average degree of users graph:  [0, 0, 45, 0, 15, 0, 10, 0, 7, 0, 25, 0, 8, 0, 9, 0, 8, 0, 1, 0, 10, 0, 0, 0, 1, 0, 0, 0, 1]\n"
     ]
    },
    {
     "data": {
      "image/png": "[encoded data removed]",
      "text/plain": [
       "<Figure size 640x480 with 1 Axes>"
      ]
     },
     "metadata": {},
     "output_type": "display_data"
    }
   ],
   "source": [
    "average_degree_users = average_degree(users_subgraph_d) \n",
    "print(\"average degree of users graph: \", average_degree_users)\n",
    "\n",
    "# plot the degree distribution with bar chart whit log scale\n",
    "plt.bar(range(len(average_degree_users)), average_degree_users, align='center')\n",
    "plt.yscale('log')\n",
    "plt.title(\"Degree distribution of users\")\n",
    "plt.ylabel(\"Frequency\")\n",
    "plt.xlabel(\"Degree\")\n",
    "plt.show()\n"
   ]
  },
  {
   "cell_type": "code",
   "execution_count": 12,
   "metadata": {},
   "outputs": [
    {
     "name": "stdout",
     "output_type": "stream",
     "text": [
      "Calculating best minimal value for power law fit\n",
      "alpha: 24.130577413051153\n"
     ]
    }
   ],
   "source": [
    "import powerlaw\n",
    "degrees = [users_subgraph_d.degree(n) for n in users_subgraph_d.nodes()]\n",
    "fit = powerlaw.Fit(degrees)\n",
    "alpha = fit.alpha\n",
    "print(\"alpha:\", alpha)\n"
   ]
  },
  {
   "attachments": {},
   "cell_type": "markdown",
   "metadata": {},
   "source": [
    "## Small-worldness and random graphs"
   ]
  },
  {
   "cell_type": "code",
   "execution_count": 13,
   "metadata": {},
   "outputs": [],
   "source": [
    "# Small-worldness and random graphs\n",
    "m = users_subgraph.number_of_edges()\n",
    "n = users_subgraph.number_of_nodes()\n",
    "p = m / (n*(n-1)/2)  # probability of having an edge between any two nodes\n",
    "graph_er = nx.erdos_renyi_graph(len(users_subgraph_d), p, directed=True)\n",
    "\n",
    "#nx.info(graph_er)"
   ]
  },
  {
   "cell_type": "code",
   "execution_count": 14,
   "metadata": {},
   "outputs": [
    {
     "name": "stdout",
     "output_type": "stream",
     "text": [
      "Clustering coefficient normal graph  0.6263838145981003\n",
      "Clustering coefficient of Erdos-Renyi graph:  0.02679812056912895\n"
     ]
    }
   ],
   "source": [
    "print(\"Clustering coefficient normal graph \", clustering_coefficient)\n",
    "clustering_coefficient_er = nx.average_clustering(graph_er)\n",
    "print(\"Clustering coefficient of Erdos-Renyi graph: \", clustering_coefficient_er)"
   ]
  },
  {
   "cell_type": "code",
   "execution_count": 15,
   "metadata": {},
   "outputs": [
    {
     "name": "stdout",
     "output_type": "stream",
     "text": [
      "average shortest path length of normal graph:  1.1174848059841047\n",
      "average shortest path length of ER user graph:  0.5977704072231436\n"
     ]
    }
   ],
   "source": [
    "print(\"average shortest path length of normal graph: \", overall_avg_shortest_path_length)\n",
    "# calculate the average shortest path length of the ER graph\n",
    "overall_avg_shortest_path_length_er,avg_shortest_path_lengths_er= average_shortest_path_length(graph_er)\n",
    "print(\"average shortest path length of ER user graph: \", overall_avg_shortest_path_length_er)"
   ]
  },
  {
   "cell_type": "code",
   "execution_count": 16,
   "metadata": {},
   "outputs": [
    {
     "name": "stdout",
     "output_type": "stream",
     "text": [
      "sigma of users graph:  12.503424470108602\n"
     ]
    }
   ],
   "source": [
    "sigma = sigma(clustering_coefficient,clustering_coefficient_er,overall_avg_shortest_path_length,overall_avg_shortest_path_length_er)\n",
    "print(\"sigma of users graph: \", sigma)"
   ]
  },
  {
   "cell_type": "code",
   "execution_count": 17,
   "metadata": {},
   "outputs": [
    {
     "name": "stdout",
     "output_type": "stream",
     "text": [
      "Connected:  True\n"
     ]
    }
   ],
   "source": [
    "# Calcola la componente connessa più grande del grafo\n",
    "largest_cc = max(nx.connected_components(users_subgraph), key=len)\n",
    "\n",
    "# Crea un nuovo grafo che contiene solo i nodi e gli archi della LCC\n",
    "users_subgraph_cc = users_subgraph.subgraph(largest_cc).copy()\n",
    "\n",
    "# Controlla se il nuovo grafo è connesso\n",
    "conn = nx.is_connected(users_subgraph_cc)\n",
    "print(\"Connected: \", conn)\n"
   ]
  },
  {
   "cell_type": "code",
   "execution_count": 48,
   "metadata": {},
   "outputs": [
    {
     "name": "stdout",
     "output_type": "stream",
     "text": [
      "omega of users graph:  -0.36682439537329126\n"
     ]
    }
   ],
   "source": [
    "omega = nx.algorithms.smallworld.omega(users_subgraph_cc, niter=1, nrand=10, seed=42)\n",
    "#omega(users_subgraph_d, niter=5, nrand=10, seed=42)\n",
    "print(\"omega of users graph: \", omega)"
   ]
  },
  {
   "attachments": {},
   "cell_type": "markdown",
   "metadata": {},
   "source": [
    "## Omega"
   ]
  },
  {
   "cell_type": "code",
   "execution_count": 46,
   "metadata": {},
   "outputs": [
    {
     "name": "stdout",
     "output_type": "stream",
     "text": [
      "omega of users graph:  -0.13535043323163287\n"
     ]
    }
   ],
   "source": [
    "# Calculate the equivalent lattice network with the same number of nodes and edges as the original graph\n",
    "n = len(users_subgraph_d.nodes())\n",
    "k = len(users_subgraph_d.edges()) // n  # The average degree of the original graph\n",
    "p = clustering_coefficient / k  # The probability of rewiring edges\n",
    "lattice = nx.watts_strogatz_graph(n, k, p)\n",
    "\n",
    "# Calculate the average shortest path length and clustering coefficient of the lattice network\n",
    "lattice_avg_shortest_path_length = nx.average_shortest_path_length(lattice)\n",
    "lattice_clustering_coefficient = nx.average_clustering(lattice)\n",
    "\n",
    "omega = ((overall_avg_shortest_path_length_er/overall_avg_shortest_path_length) - (clustering_coefficient/lattice_clustering_coefficient))\n",
    "\n",
    "print(\"omega of users graph: \", omega)"
   ]
  },
  {
   "cell_type": "code",
   "execution_count": 47,
   "metadata": {},
   "outputs": [
    {
     "name": "stdout",
     "output_type": "stream",
     "text": [
      "The original graph exhibits small-worldness.\n"
     ]
    }
   ],
   "source": [
    "# Determine the small-worldness of the original graph\n",
    "if lattice_avg_shortest_path_length < overall_avg_shortest_path_length and lattice_clustering_coefficient > clustering_coefficient:\n",
    "    print(\"The original graph exhibits small-worldness.\")\n",
    "else:\n",
    "    print(\"The original graph does not exhibit small-worldness.\")"
   ]
  },
  {
   "attachments": {},
   "cell_type": "markdown",
   "metadata": {},
   "source": [
    "### Small World Index (SWI)"
   ]
  },
  {
   "cell_type": "code",
   "execution_count": 38,
   "metadata": {},
   "outputs": [
    {
     "name": "stdout",
     "output_type": "stream",
     "text": [
      "SWI:  -0.07459605651098561\n"
     ]
    }
   ],
   "source": [
    "swi = (((overall_avg_shortest_path_length-lattice_avg_shortest_path_length)/(overall_avg_shortest_path_length_er-lattice_avg_shortest_path_length)) * ((clustering_coefficient - clustering_coefficient_er)/(lattice_clustering_coefficient - clustering_coefficient_er)))\n",
    "\n",
    "print(\"SWI: \", swi)"
   ]
  },
  {
   "cell_type": "code",
   "execution_count": 39,
   "metadata": {},
   "outputs": [
    {
     "name": "stdout",
     "output_type": "stream",
     "text": [
      "Cl 0.9345169149926692\n",
      "C 0.6263838145981003\n",
      "L 1.1174848059841047\n",
      "Lr 0.5977704072231436\n"
     ]
    }
   ],
   "source": [
    "print (\"Cl\",lattice_clustering_coefficient)\n",
    "print (\"C\", clustering_coefficient)\n",
    "\n",
    "print (\"L\",overall_avg_shortest_path_length )\n",
    "print (\"Lr\", overall_avg_shortest_path_length_er)"
   ]
  }
 ],
 "metadata": {
  "kernelspec": {
   "display_name": "Python 3",
   "language": "python",
   "name": "python3"
  },
  "language_info": {
   "codemirror_mode": {
    "name": "ipython",
    "version": 3
   },
   "file_extension": ".py",
   "mimetype": "text/x-python",
   "name": "python",
   "nbconvert_exporter": "python",
   "pygments_lexer": "ipython3",
   "version": "3.11.3"
  },
  "orig_nbformat": 4
 },
 "nbformat": 4,
 "nbformat_minor": 2
}
