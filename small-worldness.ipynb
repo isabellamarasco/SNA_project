{
 "cells": [
  {
   "cell_type": "code",
   "execution_count": 106,
   "metadata": {},
   "outputs": [],
   "source": [
    "import networkx as nx\n",
    "#print(nx.__version__)\n",
    "import csv\n",
    "import community\n",
    "import pandas as pd\n",
    "from itertools import combinations\n",
    "import itertools\n",
    "from matplotlib import pyplot as plt\n",
    "#create an empty graph\n",
    "G = nx.Graph()"
   ]
  },
  {
   "cell_type": "code",
   "execution_count": 107,
   "metadata": {},
   "outputs": [],
   "source": [
    "# Open the CSV file and read the data for languages\n",
    "with open('dataset/languages.csv', 'r') as f:\n",
    "    reader = csv.reader(f)\n",
    "    for i, row in enumerate(reader):\n",
    "        if i == 0: # Skip the header columns\n",
    "            continue\n",
    "        # Add the language node to graph with green color\n",
    "        G.add_node(row[0], language=row[1], color='#30FBD0')"
   ]
  },
  {
   "cell_type": "code",
   "execution_count": 108,
   "metadata": {},
   "outputs": [],
   "source": [
    "#create nodes and edges bewtween repositories and languages\n",
    "with open('dataset/repos.csv', 'r') as f:\n",
    "    reader = csv.reader(f)\n",
    "    for i, row in enumerate(reader):\n",
    "        if i == 0: # Skip the header columns\n",
    "            continue\n",
    "        # transform the string of languages into an array of strings\n",
    "        row[2], row[5], row[6] = tuple(x.replace(' ', '').replace('[', '').replace(']', '').replace('\\'', '').replace('\"', '').split(',') for x in (row[2], row[5], row [6]))\n",
    "        G.add_node(row[0], name=row[1], topics=row[2], n_star=row[3], n_fork=row[4], languages=row[5], p_lang=row[6], color='#5D7EF5')\n",
    "        # Add the edges between the repository and the languages\n",
    "        #for lang in row[5]:\n",
    "         #   G.add_edge(row[0], lang)"
   ]
  },
  {
   "cell_type": "code",
   "execution_count": 109,
   "metadata": {},
   "outputs": [],
   "source": [
    "# create nodes and edges between users and repositories\n",
    "with open('dataset/users.csv', 'r') as f:\n",
    "    reader = csv.reader(f)\n",
    "    for i, row in enumerate(reader):\n",
    "        if i == 0: # Skip the header columns\n",
    "            continue\n",
    "        # transform the string of repositories into an array of strings\n",
    "        row[2:4] = [x.replace(' ', '').replace('[', '').replace(']', '').replace('\\'', '').replace('\"', '').split(',') for x in row[2:4]]\n",
    "        # Add the user node to graph with blue color\n",
    "        G.add_node(row[0], name=row[1], repos=row[2], commits= row[3], color='#F8A643')\n",
    "        # Add edges between the user and their repositories\n",
    "        #for repo in row[2]:\n",
    "         #   G.add_edge(row[0], repo)"
   ]
  },
  {
   "cell_type": "code",
   "execution_count": 110,
   "metadata": {},
   "outputs": [
    {
     "name": "stderr",
     "output_type": "stream",
     "text": [
      "/var/folders/dn/3rzmgvf53gv2ssvdr1f517gc0000gn/T/ipykernel_4521/418544197.py:16: DeprecationWarning: info is deprecated and will be removed in version 3.0.\n",
      "\n",
      "  nx.info(G)\n"
     ]
    },
    {
     "data": {
      "text/plain": [
       "'Graph with 1499 nodes and 2369 edges'"
      ]
     },
     "execution_count": 110,
     "metadata": {},
     "output_type": "execute_result"
    }
   ],
   "source": [
    "# Add edges between users and repositories based on the users' list of repositories\n",
    "for node in list(G.nodes):\n",
    "    # if it's a user node\n",
    "    if len(node) >= 1:\n",
    "        if node[0] == \"u\":\n",
    "            # for each repository in the user's list of repositories\n",
    "            for repo in G.nodes[node]['repos']:\n",
    "                # add an edge between the user and the repository\n",
    "                G.add_edge(node, repo)\n",
    "        if node[0] == \"r\":\n",
    "            # for each language in the repository's list of languages\n",
    "            for lang in G.nodes[node]['languages']:\n",
    "                # add an edge between the repository and the language\n",
    "                G.add_edge(node, lang)     \n",
    "\n",
    "nx.info(G)"
   ]
  },
  {
   "cell_type": "code",
   "execution_count": 111,
   "metadata": {},
   "outputs": [
    {
     "name": "stderr",
     "output_type": "stream",
     "text": [
      "/var/folders/dn/3rzmgvf53gv2ssvdr1f517gc0000gn/T/ipykernel_4521/1751784827.py:11: DeprecationWarning: info is deprecated and will be removed in version 3.0.\n",
      "\n",
      "  nx.info(users_subgraph)\n"
     ]
    },
    {
     "data": {
      "text/plain": [
       "EdgeView([('u_8', 'u_13'), ('u_8', 'u_36'), ('u_8', 'u_99'), ('u_8', 'u_174'), ('u_8', 'u_243'), ('u_13', 'u_36'), ('u_13', 'u_99'), ('u_13', 'u_174'), ('u_13', 'u_243'), ('u_36', 'u_99'), ('u_36', 'u_174'), ('u_36', 'u_243'), ('u_99', 'u_174'), ('u_99', 'u_243'), ('u_174', 'u_243'), ('u_20', 'u_67'), ('u_20', 'u_108'), ('u_20', 'u_111'), ('u_20', 'u_125'), ('u_20', 'u_197'), ('u_67', 'u_108'), ('u_67', 'u_111'), ('u_67', 'u_125'), ('u_67', 'u_197'), ('u_67', 'u_157'), ('u_67', 'u_172'), ('u_67', 'u_237'), ('u_108', 'u_111'), ('u_108', 'u_125'), ('u_108', 'u_197'), ('u_111', 'u_125'), ('u_111', 'u_197'), ('u_125', 'u_197'), ('u_46', 'u_90'), ('u_46', 'u_172'), ('u_90', 'u_172'), ('u_172', 'u_157'), ('u_172', 'u_237'), ('u_106', 'u_192'), ('u_237', 'u_238'), ('u_237', 'u_248'), ('u_237', 'u_157'), ('u_238', 'u_248'), ('u_238', 'u_229'), ('u_238', 'u_1'), ('u_238', 'u_7'), ('u_238', 'u_12'), ('u_238', 'u_33'), ('u_238', 'u_43'), ('u_238', 'u_91'), ('u_238', 'u_119'), ('u_238', 'u_148'), ('u_238', 'u_149'), ('u_238', 'u_253'), ('u_238', 'u_265'), ('u_41', 'u_70'), ('u_41', 'u_63'), ('u_41', 'u_140'), ('u_41', 'u_190'), ('u_41', 'u_222'), ('u_70', 'u_63'), ('u_70', 'u_140'), ('u_70', 'u_190'), ('u_70', 'u_222'), ('u_72', 'u_113'), ('u_169', 'u_208'), ('u_79', 'u_82'), ('u_79', 'u_87'), ('u_79', 'u_92'), ('u_79', 'u_146'), ('u_79', 'u_179'), ('u_79', 'u_200'), ('u_79', 'u_251'), ('u_82', 'u_87'), ('u_82', 'u_92'), ('u_82', 'u_146'), ('u_82', 'u_179'), ('u_82', 'u_200'), ('u_82', 'u_251'), ('u_87', 'u_92'), ('u_87', 'u_146'), ('u_87', 'u_179'), ('u_87', 'u_200'), ('u_87', 'u_251'), ('u_92', 'u_146'), ('u_92', 'u_179'), ('u_92', 'u_200'), ('u_92', 'u_251'), ('u_146', 'u_179'), ('u_146', 'u_200'), ('u_146', 'u_251'), ('u_179', 'u_200'), ('u_179', 'u_251'), ('u_200', 'u_251'), ('u_17', 'u_18'), ('u_17', 'u_88'), ('u_17', 'u_98'), ('u_17', 'u_100'), ('u_17', 'u_191'), ('u_18', 'u_88'), ('u_18', 'u_98'), ('u_18', 'u_100'), ('u_18', 'u_191'), ('u_88', 'u_98'), ('u_88', 'u_100'), ('u_88', 'u_191'), ('u_98', 'u_100'), ('u_98', 'u_191'), ('u_100', 'u_191'), ('u_122', 'u_124'), ('u_104', 'u_219'), ('u_104', 'u_254'), ('u_219', 'u_254'), ('u_219', 'u_220'), ('u_157', 'u_213'), ('u_157', 'u_227'), ('u_157', 'u_245'), ('u_63', 'u_140'), ('u_63', 'u_190'), ('u_63', 'u_222'), ('u_140', 'u_190'), ('u_140', 'u_222'), ('u_190', 'u_222'), ('u_60', 'u_73'), ('u_1', 'u_7'), ('u_1', 'u_12'), ('u_1', 'u_33'), ('u_1', 'u_43'), ('u_1', 'u_91'), ('u_1', 'u_119'), ('u_1', 'u_148'), ('u_1', 'u_149'), ('u_1', 'u_253'), ('u_7', 'u_12'), ('u_7', 'u_33'), ('u_7', 'u_43'), ('u_7', 'u_91'), ('u_7', 'u_119'), ('u_7', 'u_148'), ('u_7', 'u_149'), ('u_7', 'u_253'), ('u_12', 'u_33'), ('u_12', 'u_43'), ('u_12', 'u_91'), ('u_12', 'u_119'), ('u_12', 'u_148'), ('u_12', 'u_149'), ('u_12', 'u_253'), ('u_33', 'u_43'), ('u_33', 'u_91'), ('u_33', 'u_119'), ('u_33', 'u_148'), ('u_33', 'u_149'), ('u_33', 'u_253'), ('u_43', 'u_91'), ('u_43', 'u_119'), ('u_43', 'u_148'), ('u_43', 'u_149'), ('u_43', 'u_253'), ('u_91', 'u_119'), ('u_91', 'u_148'), ('u_91', 'u_149'), ('u_91', 'u_253'), ('u_119', 'u_148'), ('u_119', 'u_149'), ('u_119', 'u_253'), ('u_148', 'u_149'), ('u_148', 'u_253'), ('u_148', 'u_64'), ('u_148', 'u_185'), ('u_149', 'u_253'), ('u_213', 'u_227'), ('u_213', 'u_245'), ('u_227', 'u_245'), ('u_185', 'u_235'), ('u_185', 'u_259'), ('u_185', 'u_64'), ('u_235', 'u_259'), ('u_235', 'u_21'), ('u_235', 'u_38'), ('u_235', 'u_54'), ('u_235', 'u_159'), ('u_235', 'u_164'), ('u_235', 'u_203'), ('u_235', 'u_207'), ('u_235', 'u_266'), ('u_71', 'u_165'), ('u_195', 'u_210'), ('u_145', 'u_257'), ('u_64', 'u_166'), ('u_64', 'u_187'), ('u_64', 'u_225'), ('u_64', 'u_128'), ('u_64', 'u_153'), ('u_166', 'u_187'), ('u_166', 'u_225'), ('u_187', 'u_225'), ('u_182', 'u_268'), ('u_39', 'u_239'), ('u_30', 'u_57'), ('u_57', 'u_186'), ('u_44', 'u_156'), ('u_141', 'u_234'), ('u_141', 'u_267'), ('u_234', 'u_267'), ('u_3', 'u_37'), ('u_3', 'u_86'), ('u_3', 'u_93'), ('u_3', 'u_83'), ('u_37', 'u_86'), ('u_37', 'u_93'), ('u_86', 'u_93'), ('u_19', 'u_89'), ('u_96', 'u_258'), ('u_29', 'u_32'), ('u_29', 'u_262'), ('u_32', 'u_262'), ('u_95', 'u_147'), ('u_27', 'u_74'), ('u_27', 'u_75'), ('u_27', 'u_109'), ('u_27', 'u_214'), ('u_74', 'u_75'), ('u_74', 'u_109'), ('u_74', 'u_214'), ('u_75', 'u_109'), ('u_75', 'u_214'), ('u_109', 'u_214'), ('u_45', 'u_162'), ('u_59', 'u_211'), ('u_128', 'u_153'), ('u_28', 'u_52'), ('u_28', 'u_114'), ('u_28', 'u_158'), ('u_28', 'u_212'), ('u_28', 'u_231'), ('u_28', 'u_261'), ('u_52', 'u_114'), ('u_52', 'u_158'), ('u_52', 'u_212'), ('u_52', 'u_231'), ('u_52', 'u_261'), ('u_114', 'u_158'), ('u_114', 'u_212'), ('u_114', 'u_231'), ('u_114', 'u_261'), ('u_158', 'u_212'), ('u_158', 'u_231'), ('u_158', 'u_261'), ('u_212', 'u_231'), ('u_212', 'u_261'), ('u_231', 'u_261'), ('u_133', 'u_207'), ('u_207', 'u_21'), ('u_207', 'u_38'), ('u_207', 'u_54'), ('u_207', 'u_159'), ('u_207', 'u_164'), ('u_207', 'u_203'), ('u_207', 'u_266'), ('u_107', 'u_194'), ('u_105', 'u_110'), ('u_178', 'u_269'), ('u_21', 'u_38'), ('u_21', 'u_54'), ('u_21', 'u_159'), ('u_21', 'u_164'), ('u_21', 'u_203'), ('u_21', 'u_266'), ('u_38', 'u_54'), ('u_38', 'u_159'), ('u_38', 'u_164'), ('u_38', 'u_203'), ('u_38', 'u_266'), ('u_54', 'u_159'), ('u_54', 'u_164'), ('u_54', 'u_203'), ('u_54', 'u_266'), ('u_159', 'u_164'), ('u_159', 'u_203'), ('u_159', 'u_266'), ('u_164', 'u_203'), ('u_164', 'u_266'), ('u_203', 'u_266')])"
      ]
     },
     "execution_count": 111,
     "metadata": {},
     "output_type": "execute_result"
    }
   ],
   "source": [
    "\n",
    "# Creazione del sottografo contenente solo utenti che hanno contribuito alla stessa repository\n",
    "users_subgraph = nx.Graph()\n",
    "for repo_node in G.nodes():\n",
    "    if repo_node.startswith('r'):\n",
    "        # Trova la lista degli utenti che hanno contribuito a questo repository\n",
    "        repo_users = [node for node in G.neighbors(repo_node) if node.startswith('u')]\n",
    "        # Aggiunge gli utenti e gli archi al sottografo\n",
    "        for u, v in itertools.combinations(repo_users, 2):\n",
    "            users_subgraph.add_edge(u, v)\n",
    "\n",
    "nx.info(users_subgraph)\n",
    "nx.edges(users_subgraph)"
   ]
  },
  {
   "cell_type": "code",
   "execution_count": 112,
   "metadata": {},
   "outputs": [
    {
     "name": "stdout",
     "output_type": "stream",
     "text": [
      "Clustering coefficient:  0.6263838145981003\n"
     ]
    }
   ],
   "source": [
    "#calculate clustering coefficient of users subgraph\n",
    "clustering_coefficient = nx.average_clustering(users_subgraph)\n",
    "print(\"Clustering coefficient: \", clustering_coefficient)"
   ]
  },
  {
   "cell_type": "code",
   "execution_count": 113,
   "metadata": {},
   "outputs": [
    {
     "name": "stdout",
     "output_type": "stream",
     "text": [
      "Connected:  False\n"
     ]
    }
   ],
   "source": [
    "# view if the subgraph is connected\n",
    "conn = nx.is_connected(users_subgraph)\n",
    "print(\"Connected: \", conn)"
   ]
  },
  {
   "attachments": {},
   "cell_type": "markdown",
   "metadata": {},
   "source": [
    "##Un valore medio di shortest path length pari a 1.1174848059841047 e un valore di coefficiente di cluster pari a 0.6263838145981003 indicano che la rete ha alcune caratteristiche di tipo small-worldness. In particolare, il valore medio di shortest path length indica che la distanza tra i nodi nella rete è relativamente breve, il che suggerisce che la rete sia altamente connessa. Inoltre, il valore del coefficiente di cluster indica che i nodi nella rete tendono a formare cluster o comunità, il che indica una certa tendenza alla localizzazione dei collegamenti. Tuttavia, per poter affermare con certezza che la rete sia di tipo small-worldness, è necessario confrontare questi valori con quelli di una rete randomizzata o modellata, con lo stesso numero di nodi e archi. In generale, una rete è considerata di tipo small-worldness se ha un cammino medio basso e un alto coefficiente di clustering rispetto alla rete randomizzata."
   ]
  },
  {
   "cell_type": "code",
   "execution_count": 114,
   "metadata": {},
   "outputs": [],
   "source": [
    "#convert the graph to a directed graph\n",
    "users_subgraph_d = users_subgraph.to_directed()\n",
    "def average_shortest_path_length(users_subgraph_d):\n",
    "    # compute the strongly connected components of the graph\n",
    "    components = nx.strongly_connected_components(users_subgraph_d)\n",
    "\n",
    "    # compute the average shortest path length for each component\n",
    "    avg_shortest_path_lengths = []\n",
    "    for component in components:\n",
    "        subgraph = users_subgraph_d.subgraph(component)\n",
    "        avg_shortest_path_length = nx.average_shortest_path_length(subgraph)\n",
    "        avg_shortest_path_lengths.append(avg_shortest_path_length)\n",
    "\n",
    "    # compute the overall average shortest path length\n",
    "    overall_avg_shortest_path_length = sum(avg_shortest_path_lengths) / len(avg_shortest_path_lengths)\n",
    "\n",
    "    # print the results\n",
    "    return overall_avg_shortest_path_length, avg_shortest_path_lengths\n",
    "\n",
    "def average_degree(users_subgraph_d):\n",
    "    degree_sequence = sorted([d for n, d in users_subgraph_d.degree()], reverse=True)\n",
    "    degree_count = nx.degree_histogram(users_subgraph_d)\n",
    "    \n",
    "    return degree_count\n",
    "\n",
    "def sigma(clustering_coefficient1, clustering_coefficient2, average_shortest_path_length1, average_shortest_path_length2):\n",
    "    return (clustering_coefficient1 / clustering_coefficient2) / (average_shortest_path_length1 / average_shortest_path_length2)\n",
    "\n",
    "def omega ( average_degreeLr, average_degreeL, clustering_coefficient1, clustering_coefficientL):\n",
    "    return ((average_degreeLr/average_degreeL) - (clustering_coefficient1/clustering_coefficientL))"
   ]
  },
  {
   "cell_type": "code",
   "execution_count": 115,
   "metadata": {},
   "outputs": [
    {
     "name": "stdout",
     "output_type": "stream",
     "text": [
      "average shortest path length of users graph:  1.1174848059841047\n"
     ]
    }
   ],
   "source": [
    "overall_avg_shortest_path_length,avg_shortest_path_lengths = average_shortest_path_length(users_subgraph_d)\n",
    "print(\"average shortest path length of users graph: \", overall_avg_shortest_path_length)\n"
   ]
  },
  {
   "cell_type": "code",
   "execution_count": 116,
   "metadata": {},
   "outputs": [
    {
     "name": "stdout",
     "output_type": "stream",
     "text": [
      "average degree of users graph:  [0, 0, 45, 0, 15, 0, 10, 0, 7, 0, 25, 0, 8, 0, 9, 0, 8, 0, 1, 0, 10, 0, 0, 0, 1, 0, 0, 0, 1]\n"
     ]
    },
    {
     "data": {
      "image/png": "[encoded data removed]",
      "text/plain": [
       "<Figure size 432x288 with 1 Axes>"
      ]
     },
     "metadata": {
      "needs_background": "light"
     },
     "output_type": "display_data"
    },
    {
     "data": {
      "image/png": "[encoded data removed]",
      "text/plain": [
       "<Figure size 432x288 with 1 Axes>"
      ]
     },
     "metadata": {
      "needs_background": "light"
     },
     "output_type": "display_data"
    }
   ],
   "source": [
    "average_degree_users = average_degree(users_subgraph_d) \n",
    "print(\"average degree of users graph: \", average_degree_users)\n",
    "\n",
    "# plot the degree distribution with bar chart whit log scale\n",
    "plt.bar(range(len(average_degree_users)), average_degree_users, align='center')\n",
    "plt.yscale('log')\n",
    "plt.title(\"Degree distribution of users\")\n",
    "plt.ylabel(\"Frequency\")\n",
    "plt.xlabel(\"Degree\")\n",
    "plt.show()\n",
    "\n",
    "# plot the degree distribution with bar chart\n",
    "plt.bar(range(len(average_degree_users)), average_degree_users, align='center')\n",
    "plt.title(\"Degree distribution of users\")\n",
    "plt.ylabel(\"Frequency\")\n",
    "plt.xlabel(\"Degree\")\n",
    "plt.show()"
   ]
  },
  {
   "cell_type": "code",
   "execution_count": 117,
   "metadata": {},
   "outputs": [
    {
     "name": "stderr",
     "output_type": "stream",
     "text": [
      "/var/folders/dn/3rzmgvf53gv2ssvdr1f517gc0000gn/T/ipykernel_4521/1141751884.py:6: DeprecationWarning: info is deprecated and will be removed in version 3.0.\n",
      "\n",
      "  nx.info(graph_er)\n"
     ]
    },
    {
     "data": {
      "text/plain": [
       "'DiGraph with 140 nodes and 537 edges'"
      ]
     },
     "execution_count": 117,
     "metadata": {},
     "output_type": "execute_result"
    }
   ],
   "source": [
    "m = users_subgraph.number_of_edges()\n",
    "n = users_subgraph.number_of_nodes()\n",
    "p = m / (n*(n-1)/2)  # probability of having an edge between any two nodes\n",
    "graph_er = nx.erdos_renyi_graph(len(users_subgraph_d), p, directed=True)\n",
    "\n",
    "nx.info(graph_er)"
   ]
  },
  {
   "cell_type": "code",
   "execution_count": 118,
   "metadata": {},
   "outputs": [
    {
     "name": "stdout",
     "output_type": "stream",
     "text": [
      "Clustering coefficient of normal  0.6263838145981003\n",
      "Clustering coefficient of Erdos-Renyi graph:  0.026826302151854487\n"
     ]
    }
   ],
   "source": [
    "print(\"Clustering coefficient of normal \", clustering_coefficient)\n",
    "clustering_coefficient_er = nx.average_clustering(graph_er)\n",
    "print(\"Clustering coefficient of Erdos-Renyi graph: \", clustering_coefficient_er)"
   ]
  },
  {
   "cell_type": "code",
   "execution_count": 119,
   "metadata": {},
   "outputs": [
    {
     "name": "stdout",
     "output_type": "stream",
     "text": [
      "average shortest path length of users graph:  1.1174848059841047\n",
      "average shortest path length of ER user graph:  0.32586870493847236\n"
     ]
    }
   ],
   "source": [
    "print(\"average shortest path length of users graph: \", overall_avg_shortest_path_length)\n",
    "# calculate the average shortest path length of the ER graph\n",
    "overall_avg_shortest_path_length_er,avg_shortest_path_lengths_er= average_shortest_path_length(graph_er)\n",
    "print(\"average shortest path length of ER user graph: \", overall_avg_shortest_path_length_er)"
   ]
  },
  {
   "cell_type": "code",
   "execution_count": 120,
   "metadata": {},
   "outputs": [
    {
     "name": "stdout",
     "output_type": "stream",
     "text": [
      "sigma of users graph:  6.808959377357788\n"
     ]
    }
   ],
   "source": [
    "sigma = sigma(clustering_coefficient,clustering_coefficient_er,overall_avg_shortest_path_length,overall_avg_shortest_path_length_er)\n",
    "print(\"sigma of users graph: \", sigma)"
   ]
  },
  {
   "attachments": {},
   "cell_type": "markdown",
   "metadata": {},
   "source": [
    "##Omega"
   ]
  },
  {
   "cell_type": "code",
   "execution_count": 121,
   "metadata": {},
   "outputs": [
    {
     "name": "stdout",
     "output_type": "stream",
     "text": [
      "omega of users graph:  -1.9459494284613998\n"
     ]
    }
   ],
   "source": [
    "# Calculate the equivalent lattice network with the same number of nodes and edges as the original graph\n",
    "n = len(users_subgraph_d.nodes())\n",
    "k = len(users_subgraph_d.edges()) // n  # The average degree of the original graph\n",
    "p = clustering_coefficient / k  # The probability of rewiring edges\n",
    "lattice = nx.watts_strogatz_graph(n, k, p)\n",
    "\n",
    "# Calculate the average shortest path length and clustering coefficient of the lattice network\n",
    "lattice_avg_shortest_path_length = nx.average_shortest_path_length(lattice)\n",
    "lattice_clustering_coefficient = nx.average_clustering(lattice)\n",
    "\n",
    "omega = ((overall_avg_shortest_path_length_er/lattice_avg_shortest_path_length) - (clustering_coefficient/lattice_clustering_coefficient))\n",
    "\n",
    "print(\"omega of users graph: \", omega)"
   ]
  },
  {
   "cell_type": "code",
   "execution_count": 122,
   "metadata": {},
   "outputs": [],
   "source": [
    "# Determine the small-worldness of the original graph\n",
    "#if lattice_avg_shortest_path_length < overall_avg_shortest_path_length and lattice_clustering_coefficient > clustering_coefficient:\n",
    "#    print(\"The original graph exhibits small-worldness.\")\n",
    "#else:\n",
    "#    print(\"The original graph does not exhibit small-worldness.\")"
   ]
  }
 ],
 "metadata": {
  "kernelspec": {
   "display_name": "Python 3",
   "language": "python",
   "name": "python3"
  },
  "language_info": {
   "codemirror_mode": {
    "name": "ipython",
    "version": 3
   },
   "file_extension": ".py",
   "mimetype": "text/x-python",
   "name": "python",
   "nbconvert_exporter": "python",
   "pygments_lexer": "ipython3",
   "version": "3.9.10"
  },
  "orig_nbformat": 4
 },
 "nbformat": 4,
 "nbformat_minor": 2
}
