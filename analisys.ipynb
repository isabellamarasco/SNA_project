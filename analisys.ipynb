{
 "cells": [
  {
   "cell_type": "code",
   "execution_count": 1,
   "metadata": {},
   "outputs": [],
   "source": [
    "import os\n",
    "from github import Github\n",
    "from dotenv import load_dotenv\n",
    "import networkx as nx\n",
    "import csv\n",
    "import numpy as np\n",
    "\n",
    "#create an empty graph\n",
    "G = nx.Graph()"
   ]
  },
  {
   "cell_type": "code",
   "execution_count": 22,
   "metadata": {},
   "outputs": [
    {
     "name": "stderr",
     "output_type": "stream",
     "text": [
      "/var/folders/w2/jn05b8cd0kj32r1y2sywf38w0000gn/T/ipykernel_6346/3731510205.py:12: DeprecationWarning: info is deprecated and will be removed in version 3.0.\n",
      "\n",
      "  nx.info(G)\n"
     ]
    },
    {
     "data": {
      "text/plain": [
       "'Graph with 500 nodes and 254 edges'"
      ]
     },
     "execution_count": 22,
     "metadata": {},
     "output_type": "execute_result"
    }
   ],
   "source": [
    "# Open the CSV file and read the data for users\n",
    "with open('dataset/users.csv', 'r') as f:\n",
    "    reader = csv.reader(f)\n",
    "    for i, row in enumerate(reader):\n",
    "        if i == 0: # Skip the header columns\n",
    "            continue\n",
    "        # transform the string of repositories into an array of strings\n",
    "        row[2] = [x for x in row[2].replace(' ', '').replace('[', '').replace(']', '').replace('\\'', '').replace(' \"', '').split(',')]\n",
    "        # Add the user node to graph with blue color\n",
    "        G.add_node(row[0], name=row[1], repos=row[2], color=\"#7FB2FD\")\n",
    "\n",
    "nx.info(G)\n"
   ]
  },
  {
   "cell_type": "code",
   "execution_count": 24,
   "metadata": {},
   "outputs": [
    {
     "name": "stderr",
     "output_type": "stream",
     "text": [
      "/var/folders/w2/jn05b8cd0kj32r1y2sywf38w0000gn/T/ipykernel_6346/356033693.py:17: DeprecationWarning: info is deprecated and will be removed in version 3.0.\n",
      "\n",
      "  nx.info(G)\n"
     ]
    },
    {
     "data": {
      "text/plain": [
       "'Graph with 1299 nodes and 254 edges'"
      ]
     },
     "execution_count": 24,
     "metadata": {},
     "output_type": "execute_result"
    }
   ],
   "source": [
    "# Open the CSV file and read the data for repositories\n",
    "with open('datset/repos.csv', 'r') as f:\n",
    "    reader = csv.reader(f)\n",
    "    for i, row in enumerate(reader):\n",
    "        if i == 0: # Skip the header columns\n",
    "            continue\n",
    "\n",
    "        # transform the string of languages into an array of strings\n",
    "        row[2] = [x for x in row[2].replace(' ', '').replace('[', '').replace(']', '').replace('\\'', '').replace(' \"', '').split(',')]\n",
    "\n",
    "        # Add the repository node to graph with pink color\n",
    "        G.add_node(row[0], name=row[1], languages=row[5], color=\"#FF8CCD\")\n",
    "        \n",
    "        #Add the repository repos with column id,names, languages\n",
    "        #G.add_node(row[0], row[1], row[5], color=\"#FF8CCD\")\n",
    "\n",
    "nx.info(G)\n",
    "\n"
   ]
  },
  {
   "cell_type": "code",
   "execution_count": 26,
   "metadata": {},
   "outputs": [
    {
     "name": "stderr",
     "output_type": "stream",
     "text": [
      "/var/folders/w2/jn05b8cd0kj32r1y2sywf38w0000gn/T/ipykernel_6346/1300986685.py:10: DeprecationWarning: info is deprecated and will be removed in version 3.0.\n",
      "\n",
      "  nx.info(G)\n"
     ]
    },
    {
     "data": {
      "text/plain": [
       "'Graph with 1380 nodes and 254 edges'"
      ]
     },
     "execution_count": 26,
     "metadata": {},
     "output_type": "execute_result"
    }
   ],
   "source": [
    "# Open the CSV file and read the data for languages\n",
    "with open('dataset/languages.csv', 'r') as f:\n",
    "    reader = csv.reader(f)\n",
    "    for i, row in enumerate(reader):\n",
    "        if i == 0: # Skip the header columns\n",
    "            continue\n",
    "        # Add the language node to graph with green color\n",
    "        G.add_node(row[0], color=\"#A5FFA5\")\n",
    "\n",
    "nx.info(G)\n",
    "\n"
   ]
  },
  {
   "cell_type": "code",
   "execution_count": 30,
   "metadata": {},
   "outputs": [
    {
     "ename": "RuntimeError",
     "evalue": "dictionary changed size during iteration",
     "output_type": "error",
     "traceback": [
      "\u001b[0;31m---------------------------------------------------------------------------\u001b[0m",
      "\u001b[0;31mRuntimeError\u001b[0m                              Traceback (most recent call last)",
      "\u001b[1;32m/Users/francesco/Desktop/Università/SNA/progetto/analisys.ipynb Cell 5\u001b[0m in \u001b[0;36m<cell line: 2>\u001b[0;34m()\u001b[0m\n\u001b[1;32m      <a href='vscode-notebook-cell:/Users/francesco/Desktop/Universit%C3%A0/SNA/progetto/analisys.ipynb#W4sZmlsZQ%3D%3D?line=0'>1</a>\u001b[0m \u001b[39m#create edge between repositories and languages using id in the languages.csv and languages in the repos.csv\u001b[39;00m\n\u001b[0;32m----> <a href='vscode-notebook-cell:/Users/francesco/Desktop/Universit%C3%A0/SNA/progetto/analisys.ipynb#W4sZmlsZQ%3D%3D?line=1'>2</a>\u001b[0m \u001b[39mfor\u001b[39;00m node \u001b[39min\u001b[39;00m G\u001b[39m.\u001b[39mnodes(data\u001b[39m=\u001b[39m\u001b[39mTrue\u001b[39;00m):\n\u001b[1;32m      <a href='vscode-notebook-cell:/Users/francesco/Desktop/Universit%C3%A0/SNA/progetto/analisys.ipynb#W4sZmlsZQ%3D%3D?line=2'>3</a>\u001b[0m     \u001b[39mif\u001b[39;00m node[\u001b[39m1\u001b[39m][\u001b[39m'\u001b[39m\u001b[39mcolor\u001b[39m\u001b[39m'\u001b[39m] \u001b[39m==\u001b[39m \u001b[39m\"\u001b[39m\u001b[39m#FF8CCD\u001b[39m\u001b[39m\"\u001b[39m:\n\u001b[1;32m      <a href='vscode-notebook-cell:/Users/francesco/Desktop/Universit%C3%A0/SNA/progetto/analisys.ipynb#W4sZmlsZQ%3D%3D?line=3'>4</a>\u001b[0m         \u001b[39mfor\u001b[39;00m language \u001b[39min\u001b[39;00m node[\u001b[39m1\u001b[39m][\u001b[39m'\u001b[39m\u001b[39mlanguages\u001b[39m\u001b[39m'\u001b[39m]:\n",
      "\u001b[0;31mRuntimeError\u001b[0m: dictionary changed size during iteration"
     ]
    }
   ],
   "source": [
    "#create edge between repositories and languages using id in the languages.csv and languages in the repos.csv\n",
    "for node in G.nodes(data=True):\n",
    "    if node[1]['color'] == \"#FF8CCD\":\n",
    "        for language in node[1]['languages']:\n",
    "            G.add_edge(node[0], language)\n",
    "\n",
    "nx.info(G)\n"
   ]
  }
 ],
 "metadata": {
  "kernelspec": {
   "display_name": "base",
   "language": "python",
   "name": "python3"
  },
  "language_info": {
   "codemirror_mode": {
    "name": "ipython",
    "version": 3
   },
   "file_extension": ".py",
   "mimetype": "text/x-python",
   "name": "python",
   "nbconvert_exporter": "python",
   "pygments_lexer": "ipython3",
   "version": "3.9.12"
  },
  "orig_nbformat": 4
 },
 "nbformat": 4,
 "nbformat_minor": 2
}
